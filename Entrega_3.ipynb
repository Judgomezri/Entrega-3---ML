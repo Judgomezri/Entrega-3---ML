{
  "nbformat": 4,
  "nbformat_minor": 0,
  "metadata": {
    "colab": {
      "name": "Entrega 3",
      "provenance": [],
      "collapsed_sections": [],
      "toc_visible": true
    },
    "kernelspec": {
      "name": "python3",
      "display_name": "Python 3"
    },
    "language_info": {
      "name": "python"
    }
  },
  "cells": [
    {
      "cell_type": "markdown",
      "metadata": {
        "id": "usM7mQ8IaOYX"
      },
      "source": [
        "# **Entrega 3 - Juan Daniel Gómez Rios.**\n",
        "---\n"
      ]
    },
    {
      "cell_type": "markdown",
      "metadata": {
        "id": "yYnq9Q7gaQuX"
      },
      "source": [
        "**Ejercicio 2.2**\n",
        "---\n",
        "---\n",
        "**$(a)$ Verifique el límite del teorema 2.4 en los tres casos del ejemplo 2.2:**\n",
        "\\\n",
        "\\\n",
        "**Teorema 2.4.** Si $m_H(k)<2^k$ para algún valor $k$, entonces\n",
        "$$m_H(N)\\leq\\sum_{i=0}^{k-1}{N\\choose i}$$\n",
        "para todo N. La RHS es polinomial en $N$ de grado $k-1$.\n",
        "\\\n",
        "\\\n",
        "**($i$) Rayos positivos: $H$ consta de todas las hipótesis en una dimensión de la forma $h(x)=sign(x-a)$.**\\\n",
        "**RTA:** Por el ejercicio 2.1 tenemos que el punto de quiebre para este ejemplo es $k=2$. Tenemos entonces que el $right-hand-side$ está definido por:\n",
        "$$RHS = \\sum_{i=0}^1 {N\\choose i} = 1 + N.$$\n",
        "Tenemos también que $m_H(N)=N+1$, es decir, en particular,\n",
        "$$RHS=m_H(N)$$\n",
        "cumpliendo el teorema.\n",
        "\\\n",
        "\\\n",
        "**($ii$) Intervalos positivos: $H$ consta de todas las hipótesis en una dimensión que son positivos dentro de algún intervalo y negativo en todo lo demás.**\\\n",
        "**RTA:** El punto de quiebre para este ejemplo es $k=3$. Tenemos entonces que el $right-hand-side$ está definido por:\n",
        "$$RHS = \\sum_{i=0}^2 {N\\choose i} = 1+N+\\cfrac{N!}{2(N-2!)}=1+N+\\cfrac{N (N-1)}{2}=1+\\cfrac{N(N+1)}{2}.$$\n",
        "Tenemos también que $m_H(N)=\\cfrac{1}{2}N^2+\\cfrac{1}{2}$, o escrito de otra forma,\n",
        "$$m_H(N)=\\cfrac{N^2+N}{2}+1=\\cfrac{N(N+1)}{2}+1$$\n",
        "Y así, en particular,\n",
        "$$RHS=m_H(N)$$\n",
        "cumpliendo el teorema.\n",
        "\\\n",
        "\\\n",
        "**($iii$) Conjuntos convexos: $H$ consta de todas las hipótesis en dos dimensiones que son positivas dentro de algún conjunto convexo y negativo en todo lo demás.**\\\n",
        "**RTA:** No hay un punto de quiebre para este ejemplo, por lo que si tomamos el valor máximo de $k$, siendo este $N+1$, tenemos que el $right-hand-side$ está definido por:\n",
        "$$RHS = \\sum_{i=0}^N {N\\choose i} = 2^k. \\text{(Es fácil demostrarlo de manera combinatoria.)}$$\n",
        "Tenemos también que $m_H(N)=2^k$, por lo que,\n",
        "$$RHS=m_H(N)$$\n",
        "cumpliendo el teorema.\n",
        "\\\n",
        "\\\n",
        "**$(b)$ ¿Existe un conjunto hipótesis para el cual $m_H(N)=N+2^{\\lfloor N/2\\rfloor}$ (donde $\\lfloor N/2 \\rfloor$ es el entero más grande $\\leq N/2$)?\n",
        "\n",
        "**RTA:** Supongamos que $m_H(N)=N+2^{\\lfloor N/2\\rfloor}$. Su punto de quiebre será $K=3$ por lo que, por el teorema 2.4 \n",
        "$$m_H(N)\\leq \\sum_{i=0}^2 {N\\choose i}=\\cfrac{N(N+1)}{2}+1=RHS.$$\n",
        "Ya que el crecimiento de $m_H(N)$ es exponencial mientras que el crecimiento de $RHS$ es polinómico, para un $N$ lo suficientemente grande se dará que \n",
        "$$m_H(N)\\geq \\sum_{i=0}^2 {N\\choose i}=\\cfrac{N(N+1)}{2}+1=RHS,$$\n",
        "contradiciendo el teorema por lo que no se puede dar un conjunto hipótesis de estas características."
      ]
    },
    {
      "cell_type": "markdown",
      "metadata": {
        "id": "h6dxivi6if1C"
      },
      "source": [
        "**Ejercicio 2.5**\n",
        "---\n",
        "---\n",
        "**Suponga que tenemos un modelo de aprendizaje simple en el cual la función de crecimiento es $m_H(N)=N+1$, porlo que $d_{vc}=1$. Use el límite VC (2.12) para estimar la probabilidad de que $E_{out}$ este dentro del $0.1$ de $E_{in}$ dados 100 ejemplos de entrenamiento. (Pista: La estimación será ridícula.)**\n",
        "Teorema 2.5: (Límite de generalización VC). Para cualquier tolerancia $\\delta>0$, \n",
        "$$E_{out}(g)\\leq E_{in}(g)+\\sqrt{\\cfrac{8}{N}ln\\cfrac{4m_H(2N)}{\\delta}}$$\n",
        "con probabilidad $\\geq 1-\\delta$\\\n",
        "\n",
        "**RTA:** Como vemos en el siguiente código, $\\delta=709.52709.5275096780147$.\n",
        "Naturalmente, $\\delta\\geq 1-\\delta$."
      ]
    },
    {
      "cell_type": "code",
      "metadata": {
        "colab": {
          "base_uri": "https://localhost:8080/"
        },
        "id": "9Qy4EdO12gwk",
        "outputId": "3e1ccf26-63dc-41bf-fe14-7d33923e8142"
      },
      "source": [
        "import numpy as np\n",
        "\n",
        "def mh(N):\n",
        "  return N + 1\n",
        "\n",
        "N = 100\n",
        "epsilon = 0.1\n",
        "\n",
        "delta = 4*mh(2*N) / np.exp(N * epsilon**2 /8)\n",
        "print(delta)"
      ],
      "execution_count": null,
      "outputs": [
        {
          "output_type": "stream",
          "text": [
            "709.5275096780147\n"
          ],
          "name": "stdout"
        }
      ]
    },
    {
      "cell_type": "markdown",
      "metadata": {
        "id": "SRBS83l2KJw9"
      },
      "source": [
        "**Ejercicio 2.6**\n",
        "---\n",
        "---\n",
        "**Un conjunto de datos tiene 600 muestras. Para probar apropiadamente el rendimiento de la hipótesis final, dejas de lado un subconjunto aleatorio de 200 muestras las cuales nunca se usarán en la fase de entrenamiento; estos forman un conjunto de prueba. Usas un modelo de aprendizaje con 1000 hipótesis y seleccionas la hipótesis final $g$ basado en las 400 muestras de entrenamiento. Deseamos estimar $E_{out} (g)$. Tenemos acceso a dos estimaciones: $E_{in}(g)$, el error en la muestra en las 400 muestras de entrenamiento; y, $E_{test}(g)$, la prueba de error en las 200 muestras de prueba que dejamos de lado.**\n",
        "\\\n",
        "\\\n",
        "**($a$) Usando un 5% de error de tolerancia ($\\delta=0.05$), ¿qué estimación tiene la 'barra de error' más alta?**\\\n",
        "**RTA:** Como $E_{test}(g)$ es una estimación no sesgada de $E_{out}(g)$, pero $E_{in}(g)$ si es sesgada, la barra de error de $E_{in}(g)$ es más alta y podemos corroborarlo al ejecutar el siguiente código donde $E_{in}(g)=0.115$ y $E_{test}(g)=0.096$."
      ]
    },
    {
      "cell_type": "code",
      "metadata": {
        "colab": {
          "base_uri": "https://localhost:8080/"
        },
        "id": "gyIvgvW1rWum",
        "outputId": "81c2b91b-19e3-4996-e249-8113effaa409"
      },
      "source": [
        "import numpy as np\n",
        "\n",
        "epsilon = 0.05\n",
        "\n",
        "N = 200\n",
        "Etest = np.sqrt(np.log(2/epsilon)/2/N)\n",
        "\n",
        "M = 1000\n",
        "N = 400\n",
        "Ein = np.sqrt(np.log(2*M/epsilon)/2/N)\n",
        "\n",
        "print('E_in = ',Ein)\n",
        "print('E_test = ',Etest)"
      ],
      "execution_count": null,
      "outputs": [
        {
          "output_type": "stream",
          "text": [
            "E_in =  0.11509037065006825\n",
            "E_test =  0.09603227913199208\n"
          ],
          "name": "stdout"
        }
      ]
    },
    {
      "cell_type": "markdown",
      "metadata": {
        "id": "NoTyMVjhsN6M"
      },
      "source": [
        "**($b$) ¿Hay alguna razón por la que no deba reservar aún más ejemplos para realizar pruebas?** \\\n",
        "**RTA:** ‎Si hay demasiados conjuntos de pruebas, habrá menos conjuntos de entrenamiento, por lo que los resultados de $E_{test}(g)$ son peores‎."
      ]
    },
    {
      "cell_type": "markdown",
      "metadata": {
        "id": "buACK2j2o81Z"
      },
      "source": [
        "**Problema 2.1**\n",
        "---\n",
        "---\n",
        "**En la ecuación 2.1, use $\\delta=0.03$ y sea**\n",
        "\n",
        "$$ \\epsilon(M,N,\\delta)=\\sqrt{\\cfrac{1}{2N}ln\\cfrac{2M}{\\delta}}.$$\n",
        "\n",
        "**($a$) Para $M=1$, ¿cuántas muestras necesitamos para que $\\epsilon\\leq 0.05$?**\\\n",
        "**RTA:** 840."
      ]
    },
    {
      "cell_type": "code",
      "metadata": {
        "colab": {
          "base_uri": "https://localhost:8080/"
        },
        "id": "FO006bjAw0m1",
        "outputId": "b9f72f07-d38b-4395-bb6a-449bccadcab1"
      },
      "source": [
        "import numpy as np\n",
        "\n",
        "delta = 0.03\n",
        "def samples(M, epsilon):\n",
        "    return np.log(2*M/delta)/(2*epsilon**2)\n",
        "\n",
        "print('Para M=1, ', samples(1,0.05))"
      ],
      "execution_count": null,
      "outputs": [
        {
          "output_type": "stream",
          "text": [
            "Para M=1  839.9410155759853\n"
          ],
          "name": "stdout"
        }
      ]
    },
    {
      "cell_type": "markdown",
      "metadata": {
        "id": "Tu3H9pc-xe2R"
      },
      "source": [
        "**($b$) Para $M=100$, ¿cuántas muestras necesitamos para que $\\epsilon\\leq 0.05$?**\\\n",
        "**RTA:** 1761.\n"
      ]
    },
    {
      "cell_type": "code",
      "metadata": {
        "colab": {
          "base_uri": "https://localhost:8080/"
        },
        "id": "p5Lz9porxvF6",
        "outputId": "024bb2b0-326b-4bf2-957c-91b0c3a0226b"
      },
      "source": [
        "print('Para M=100, ', samples(100,0.05))"
      ],
      "execution_count": null,
      "outputs": [
        {
          "output_type": "stream",
          "text": [
            "Para M=100,  1760.9750527736032\n"
          ],
          "name": "stdout"
        }
      ]
    },
    {
      "cell_type": "markdown",
      "metadata": {
        "id": "mJ-pk6y6xwA6"
      },
      "source": [
        "**($c$) Para $M=10,000$, ¿cuántas muestras necesitamos para que $\\epsilon\\leq 0.05$?**\n",
        "\\\n",
        "**RTA:** 2683."
      ]
    },
    {
      "cell_type": "code",
      "metadata": {
        "colab": {
          "base_uri": "https://localhost:8080/"
        },
        "id": "NedrrePAxxNr",
        "outputId": "0a837cce-5878-4059-8190-cd860b6920b6"
      },
      "source": [
        "print('Para M=10,000, ', samples(10000,0.05))"
      ],
      "execution_count": null,
      "outputs": [
        {
          "output_type": "stream",
          "text": [
            "Para M=10,000,  2682.0090899712213\n"
          ],
          "name": "stdout"
        }
      ]
    },
    {
      "cell_type": "markdown",
      "metadata": {
        "id": "e-tRQvn8yW5m"
      },
      "source": [
        "**Problema 2.12**\n",
        "---\n",
        "---\n",
        "**Para un $H$ con $d_{vc}=10$, ¿Qué tamaño de muestra necesitas (‎según lo prescrito por el límite de generalización‎) para tener un 95% de confianza de que tu error de generalización es a lo mucho 0.05?**\\\n",
        "\\\n",
        "**RTA:** Hacemos uso de la siguiente fórmula,\n",
        "$$E_{out}(g)\\leq E_{in}(g) + \\sqrt{\\cfrac{8}{N}ln\\cfrac{4((2N)^{d_{vc}}+1)}{\\delta}}.$$\n",
        "\n",
        "A partir de ella podemos estimar que el número de muestras necesarias es 452957."
      ]
    },
    {
      "cell_type": "code",
      "metadata": {
        "colab": {
          "base_uri": "https://localhost:8080/"
        },
        "id": "hUOS3M6GzQOX",
        "outputId": "12711a6a-d680-4948-fe03-4df9508b3504"
      },
      "source": [
        "import numpy as np\n",
        "\n",
        "delta = 0.05\n",
        "dvc = 10\n",
        "error = 0.05\n",
        "\n",
        "def estimatedError(N):\n",
        "    return (8 / N * np.log(4 * ((2 * N) ** dvc + 1) / delta))** 0.5\n",
        "\n",
        "N = 1\n",
        "while(True):\n",
        "    if(estimatedError(N)-error <= 0):\n",
        "        break\n",
        "    else:\n",
        "        N += 1\n",
        "\n",
        "print(N)"
      ],
      "execution_count": null,
      "outputs": [
        {
          "output_type": "stream",
          "text": [
            "452957\n"
          ],
          "name": "stdout"
        }
      ]
    },
    {
      "cell_type": "markdown",
      "metadata": {
        "id": "vAVFBMBqeMJs"
      },
      "source": [
        "**Problema 2.16**\n",
        "---\n",
        "---\n",
        "**En este problema vamos a considerar $\\mathcal{X}=\\mathbb{R}$. Es decir, $\\mathbb{x}=x$ es una variable unidimensional. Para un conjunto hipótesis**\n",
        "$$\\mathcal{H}=\\left\\{h_c | h_c(x)=sign\\left(\\sum_{i=0}^D c_ix^i\\right) \\right\\},$$\n",
        "**pruebe que la dimensión VC de $\\mathcal{H}$ es exactamente $(D+1)$ mostrando que**\n",
        "\n",
        "**($a$) Hay $(D+1)$ puntos que $\\mathcal{H}$ puede romper.**\n",
        "\n",
        "**($b$) No hay $(D+2)$ puntos que $\\mathcal{H}$ puede romper.**\n",
        "\n",
        "Escogemos $D+1$ puntos $x_0, x_1, ... x_D\\in\\mathbb{R}$. Construimos la siguiente matriz de dimensiones $(D+1)\\times (D+1)$.\n",
        "$$X=\\left(\n",
        "\\begin{array}{cccc}\n",
        "1 & x_0^1 & \\cdots & x_0^D \\\\\n",
        "1 & x_1^1 & \\cdots & x_1^D \\\\\n",
        "\\vdots & \\vdots & \\ddots & \\vdots \\\\\n",
        "1 & x_D^1 & \\cdots & x_D^D\n",
        "\\end{array}\n",
        "\\right)$$\n",
        "\n",
        "Sea $y=(y_0, y_1, ..., y_D)^T$ con $y_i\\in{-1,1}$. Construimos un $c={c_0, c_1, ..., c_D}^T$ tal que $c=X^{-1}y$ o lo que es lo mismo, $Xc=y$. Así, para todo $k=0,1,...,D$ se cumple que\n",
        "\n",
        "$$h_c(x_k)=sign\\left(\\sum_{i=0}^D c_ix_k^i\\right)=y_k$$\n",
        "\n",
        "Y, por definición, $\\mathcal{H}$ rompe $x_0,x_1,...,x_D$, por lo que $m_H(D+1)=2^{D+1}$ y así, $d_{VC}(\\mathcal{H})\\leq D+1$.\n",
        "\n",
        "\n"
      ]
    }
  ]
}